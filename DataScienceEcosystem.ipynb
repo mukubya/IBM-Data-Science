{
  "nbformat": 4,
  "nbformat_minor": 0,
  "metadata": {
    "colab": {
      "provenance": []
    },
    "kernelspec": {
      "name": "python3",
      "display_name": "Python 3"
    },
    "language_info": {
      "name": "python"
    }
  },
  "cells": [
    {
      "cell_type": "markdown",
      "source": [
        "Exercise 2: Create markdown cell with title of the notebook"
      ],
      "metadata": {
        "id": "0KTZl9KU9qxM"
      }
    },
    {
      "cell_type": "markdown",
      "source": [
        "# Data Science Tools and Ecosystem"
      ],
      "metadata": {
        "id": "G0iDtsdqudTB"
      }
    },
    {
      "cell_type": "markdown",
      "source": [
        "Exercise 3 - Create a markdown cell for an introduction"
      ],
      "metadata": {
        "id": "NP8hU5Q9-EUE"
      }
    },
    {
      "cell_type": "markdown",
      "source": [
        "In this notebook, Data Science Tools and Ecosystem are summarized."
      ],
      "metadata": {
        "id": "ZoOVCOklwqj5"
      }
    },
    {
      "cell_type": "markdown",
      "source": [
        "Exercise 4 - Create a markdown cell to list data science languages"
      ],
      "metadata": {
        "id": "3JUFlG-B-TzY"
      }
    },
    {
      "cell_type": "markdown",
      "source": [
        "Some of the popilar languages that data Scientists use are:\n",
        "\n",
        "\n",
        "1.   Python\n",
        "2.   R\n",
        "3.   SQL\n",
        "4.   Julia\n",
        "\n",
        "\n"
      ],
      "metadata": {
        "id": "lmZ0nm0KxA7L"
      }
    },
    {
      "cell_type": "markdown",
      "source": [
        "Exercise 5 - Create a markdown cell to list data science libraries"
      ],
      "metadata": {
        "id": "dGo4zHa5-gBe"
      }
    },
    {
      "cell_type": "markdown",
      "source": [
        "Some of the commonly used libraries used by Data Scientists include:\n",
        "1. Pandas\n",
        "2. Numpy\n",
        "3. Sci-kit learn\n",
        "4. Matplotlib\n",
        "5. Beautiful soup"
      ],
      "metadata": {
        "id": "E5j1Oe-Z5M_Y"
      }
    },
    {
      "cell_type": "markdown",
      "source": [
        "Exercise 6 - Create a markdown cell with a table of Data Science tools"
      ],
      "metadata": {
        "id": "0BQtdV5j-tbO"
      }
    },
    {
      "cell_type": "markdown",
      "source": [
        "|Data Science tools|\n",
        "|--------|\n",
        "|Anaconda|\n",
        "|R-studio|\n",
        "|Google Colab|"
      ],
      "metadata": {
        "id": "IfQWSZqT8gPB"
      }
    },
    {
      "cell_type": "markdown",
      "source": [
        "Exercise 7 - Create a markdown cell introducing arithmetic expression examples"
      ],
      "metadata": {
        "id": "4n3NTjyn-5-1"
      }
    },
    {
      "cell_type": "markdown",
      "source": [
        "### Below are a few examples of evaluating arithmetic expressions in Python"
      ],
      "metadata": {
        "id": "rmV3XQYl9XlM"
      }
    },
    {
      "cell_type": "markdown",
      "source": [
        "Exercise 8 - Create a code cell to multiply and add numbers"
      ],
      "metadata": {
        "id": "duYMb_8v_ezY"
      }
    },
    {
      "cell_type": "code",
      "source": [
        "(3*4)+5\n",
        "# This is a simple arithmetic expression to multiply then add integers."
      ],
      "metadata": {
        "colab": {
          "base_uri": "https://localhost:8080/"
        },
        "id": "33kh2wLx8fNb",
        "outputId": "b1209b28-c7ab-435e-dcae-af0de1390683"
      },
      "execution_count": 1,
      "outputs": [
        {
          "output_type": "execute_result",
          "data": {
            "text/plain": [
              "17"
            ]
          },
          "metadata": {},
          "execution_count": 1
        }
      ]
    },
    {
      "cell_type": "markdown",
      "source": [
        "Exercise 9 - Create a code cell to convert minutes to hours"
      ],
      "metadata": {
        "id": "qBiw1vgy_q_2"
      }
    },
    {
      "cell_type": "code",
      "source": [
        "200/60\n",
        "# This will convert 200 minutes to hours by dividing by 60"
      ],
      "metadata": {
        "colab": {
          "base_uri": "https://localhost:8080/"
        },
        "id": "uPAe-65f_Z3w",
        "outputId": "9779ca81-d2c9-4ca9-d68d-df81714f9f6e"
      },
      "execution_count": 2,
      "outputs": [
        {
          "output_type": "execute_result",
          "data": {
            "text/plain": [
              "3.3333333333333335"
            ]
          },
          "metadata": {},
          "execution_count": 2
        }
      ]
    },
    {
      "cell_type": "markdown",
      "source": [
        "Exercise 10 - Insert a markdown cell to list Objectives"
      ],
      "metadata": {
        "id": "R63Vm5sSANze"
      }
    },
    {
      "cell_type": "markdown",
      "source": [
        "**Objectives:**\n",
        "* Creat an notebook file\n",
        "* List popular languages used in data science\n",
        "* List the popular data science libraries\n",
        "* Create ordered and un-ordered lists\n",
        "* Create tables\n",
        "* Write markdown text\n",
        "\n"
      ],
      "metadata": {
        "id": "TRNFqgiZATjE"
      }
    },
    {
      "cell_type": "markdown",
      "source": [
        "Exercise 11 - Create a markdown cell to indicate the Author's name"
      ],
      "metadata": {
        "id": "Q1C1tg6-BZhU"
      }
    },
    {
      "cell_type": "markdown",
      "source": [
        "##Author\n",
        "Habbert Mukubya"
      ],
      "metadata": {
        "id": "8Eb_pX0jBkpc"
      }
    },
    {
      "cell_type": "code",
      "source": [],
      "metadata": {
        "id": "UQRltshFBtQy"
      },
      "execution_count": null,
      "outputs": []
    }
  ]
}